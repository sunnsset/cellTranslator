{
 "cells": [
  {
   "cell_type": "code",
   "execution_count": 3,
   "id": "f2cc20fc-5c83-473b-a689-39b114a347fc",
   "metadata": {
    "tags": []
   },
   "outputs": [],
   "source": [
    "import anndata\n",
    "# import scvi\n",
    "import scanpy as sc\n",
    "import numpy as np\n",
    "import pandas as pd\n",
    "import torch\n",
    "import torch.nn as nn\n",
    "import torch.optim as optim\n",
    "import argparse\n",
    "import scanpy as sc\n",
    "import os\n",
    "import matplotlib.pyplot as plt\n",
    "import seaborn as sns\n",
    "from scipy.signal import savgol_filter\n",
    "# import umap\n",
    "import anndata as ad\n",
    "import pandas as pd\n",
    "from collections import Counter\n",
    "import anndata\n",
    "from sklearn.model_selection import train_test_split\n",
    "\n",
    "from lib_vqvae.vqvae import VQVAE\n",
    "from lib_vqvae.dataset import *\n",
    "import lib_vqvae.feature_spectrum as feature_spectrum\n",
    "\n",
    "import lib_metrics.benchmark as bmk\n",
    "import lib_metrics.metrics as metrics\n",
    "from lib_metrics.utils_integration import *"
   ]
  },
  {
   "cell_type": "markdown",
   "id": "67fdf9ee-96db-4833-ae78-d8eb745c6df4",
   "metadata": {},
   "source": [
    "### read your dataset"
   ]
  },
  {
   "cell_type": "code",
   "execution_count": 4,
   "id": "c132de2f-5d28-437c-8816-75b0187d8f0d",
   "metadata": {
    "tags": []
   },
   "outputs": [
    {
     "data": {
      "text/plain": [
       "AnnData object with n_obs × n_vars = 27436 × 43878\n",
       "    obs: 'cid', 'seq_tech', 'donor_ID', 'donor_gender', 'donor_age', 'donor_status', 'original_name', 'organ', 'region', 'subregion', 'sample_status', 'treatment', 'ethnicity', 'cell_type', 'cell_id', 'study_id'\n",
       "    var: 'vst.mean', 'vst.variance', 'vst.variance.expected', 'vst.variance.standardized', 'vst.variable'\n",
       "    obsm: 'umap'"
      ]
     },
     "execution_count": 4,
     "metadata": {},
     "output_type": "execute_result"
    }
   ],
   "source": [
    "adata = ad.read_h5ad(\"./data/liver_test.h5ad\")\n",
    "adata"
   ]
  },
  {
   "cell_type": "code",
   "execution_count": 5,
   "id": "8cf5e5ce-0627-42ac-9ce9-1b34e06a441c",
   "metadata": {
    "tags": []
   },
   "outputs": [
    {
     "data": {
      "text/plain": [
       "View of AnnData object with n_obs × n_vars = 27436 × 5000\n",
       "    obs: 'cid', 'seq_tech', 'donor_ID', 'donor_gender', 'donor_age', 'donor_status', 'original_name', 'organ', 'region', 'subregion', 'sample_status', 'treatment', 'ethnicity', 'cell_type', 'cell_id', 'study_id'\n",
       "    var: 'vst.mean', 'vst.variance', 'vst.variance.expected', 'vst.variance.standardized', 'vst.variable'\n",
       "    obsm: 'umap'"
      ]
     },
     "execution_count": 5,
     "metadata": {},
     "output_type": "execute_result"
    }
   ],
   "source": [
    "var_names_df = pd.read_csv(\"./data/hvg5000_gene_names.csv\")\n",
    "gene_names = var_names_df['gene'].tolist()\n",
    "test_condition = adata.var_names.isin(gene_names)\n",
    "adata = adata[:,test_condition]\n",
    "adata"
   ]
  },
  {
   "cell_type": "markdown",
   "id": "0bfcfdf3-201e-44f0-bb07-d123f83d680c",
   "metadata": {},
   "source": [
    "### load the trained model"
   ]
  },
  {
   "cell_type": "code",
   "execution_count": 6,
   "id": "2e61afeb-3bae-4b2d-b70f-e7f9be9e4bfd",
   "metadata": {
    "tags": []
   },
   "outputs": [
    {
     "data": {
      "text/plain": [
       "VQVAE(\n",
       "  (encoder): Encoder(\n",
       "    (network): Sequential(\n",
       "      (0): Linear(in_features=5000, out_features=1600, bias=True)\n",
       "      (1): LayerNorm((1600,), eps=1e-05, elementwise_affine=True)\n",
       "      (2): PReLU(num_parameters=1)\n",
       "      (3): Dropout(p=0.2, inplace=False)\n",
       "      (4): Linear(in_features=1600, out_features=1024, bias=True)\n",
       "      (5): LayerNorm((1024,), eps=1e-05, elementwise_affine=True)\n",
       "      (6): PReLU(num_parameters=1)\n",
       "      (7): Dropout(p=0.2, inplace=False)\n",
       "      (8): Linear(in_features=1024, out_features=800, bias=True)\n",
       "      (9): LayerNorm((800,), eps=1e-05, elementwise_affine=True)\n",
       "      (10): PReLU(num_parameters=1)\n",
       "      (11): Dropout(p=0.2, inplace=False)\n",
       "      (12): Linear(in_features=800, out_features=256, bias=True)\n",
       "    )\n",
       "  )\n",
       "  (vector_quantization): VectorQuantizer(\n",
       "    (embedding): Embedding(256, 8)\n",
       "  )\n",
       "  (decoder): Decoder(\n",
       "    (network): Sequential(\n",
       "      (0): Linear(in_features=256, out_features=800, bias=True)\n",
       "      (1): LayerNorm((800,), eps=1e-05, elementwise_affine=True)\n",
       "      (2): PReLU(num_parameters=1)\n",
       "      (3): Dropout(p=0.2, inplace=False)\n",
       "      (4): Linear(in_features=800, out_features=1024, bias=True)\n",
       "      (5): LayerNorm((1024,), eps=1e-05, elementwise_affine=True)\n",
       "      (6): PReLU(num_parameters=1)\n",
       "      (7): Dropout(p=0.2, inplace=False)\n",
       "      (8): Linear(in_features=1024, out_features=1600, bias=True)\n",
       "      (9): LayerNorm((1600,), eps=1e-05, elementwise_affine=True)\n",
       "      (10): PReLU(num_parameters=1)\n",
       "      (11): Dropout(p=0.2, inplace=False)\n",
       "      (12): Linear(in_features=1600, out_features=5000, bias=True)\n",
       "    )\n",
       "  )\n",
       ")"
      ]
     },
     "execution_count": 6,
     "metadata": {},
     "output_type": "execute_result"
    }
   ],
   "source": [
    "# load the saved model\n",
    "parser = argparse.ArgumentParser()\n",
    "parser.add_argument(\"--train_batch_size\", type=int, default=64)\n",
    "parser.add_argument(\"--eval_batch_size\", type=int, default=2000)\n",
    "parser.add_argument(\"--encoder_hidden_dim\", type=list, default=[1600,1024,800])\n",
    "parser.add_argument(\"--decoder_hidden_dim\", type=list, default=[800,1024,1600])\n",
    "parser.add_argument(\"--codebook_dim\", type=int, default=8)\n",
    "parser.add_argument(\"--n\", type=int, default=32)\n",
    "parser.add_argument(\"--n_codebooks\", type=int, default=256)\n",
    "parser.add_argument(\"--gamma\", type=float, default=5)\n",
    "parser.add_argument(\"--beta\", type=float, default=10)\n",
    "parser.add_argument('--weight_decay', type=float, default=5e-4)\n",
    "parser.add_argument(\"--lr\", type=float, default=1e-4) # 1e-3\n",
    "parser.add_argument('--max_iter', type=int, default=20)\n",
    "parser.add_argument('--seed', type=int, default=2024)\n",
    "parser.add_argument('--gpu', type=int, default=0)\n",
    "parser.add_argument(\"--dropout_rate\", type=float, default=0.2)\n",
    "parser.add_argument('--mode', type=str, default=\"vqvae\")\n",
    "parser.add_argument('--hvg', type=int, default=5000)\n",
    "\n",
    "# whether or not to save model\n",
    "parser.add_argument(\"-save\", action=\"store_true\", default=True)\n",
    "parser.add_argument(\"--log_val\", type=int, default=2)\n",
    "\n",
    "# -- para for paths\n",
    "parser.add_argument('--save_path', type=str, default='./results/multi_organs_fullgenes/')\n",
    "parser.add_argument('--test_on', type=str, default='test')\n",
    "\n",
    "args = parser.parse_args([])\n",
    "\n",
    "# -- device\n",
    "if torch.cuda.is_available():\n",
    "    args.device='cuda'\n",
    "    torch.cuda.set_device(args.gpu)\n",
    "else:\n",
    "    args.device='cpu' \n",
    "    \n",
    "data_dim = 5000\n",
    "vae = VQVAE(data_dim, args.n, args.codebook_dim, args.n_codebooks, args.encoder_hidden_dim, args.decoder_hidden_dim, args.beta, args.gamma, args.dropout_rate).to(args.device)\n",
    "\n",
    "vae.load_state_dict(torch.load('./model/model.pth')['model'])\n",
    "vae.eval() "
   ]
  },
  {
   "cell_type": "markdown",
   "id": "bb5db390-3535-48f6-aa35-953431dd0b04",
   "metadata": {},
   "source": [
    "### get the referenced results"
   ]
  },
  {
   "cell_type": "code",
   "execution_count": 8,
   "id": "3d0accdc-3609-406b-a720-5b28cf106304",
   "metadata": {
    "tags": []
   },
   "outputs": [
    {
     "name": "stderr",
     "output_type": "stream",
     "text": [
      " ImplicitModificationWarning:/nfs/public/xcx/cellTranslator/cell_tokenizer/lib_vqvae/dataset.py:42: Trying to modify attribute `.obs` of view, initializing view as actual.\n"
     ]
    }
   ],
   "source": [
    "new_adata = vae.get_adata_codebook_index(adata, mode=args.mode, device=args.device)"
   ]
  },
  {
   "cell_type": "code",
   "execution_count": 9,
   "id": "18a69a57-7e8d-4700-937d-c3b5b5a72d8a",
   "metadata": {
    "tags": []
   },
   "outputs": [
    {
     "data": {
      "text/plain": [
       "array([[187, 187, 188, ...,  98,  25, 223],\n",
       "       [205,  69, 140, ...,  36, 143,  24],\n",
       "       [ 33, 187,  36, ..., 117, 143,  24],\n",
       "       ...,\n",
       "       [105, 188, 188, ..., 117, 143,  24],\n",
       "       [135, 123,  81, ...,  36, 143, 223],\n",
       "       [190,  98, 105, ..., 191,  25,  24]])"
      ]
     },
     "execution_count": 9,
     "metadata": {},
     "output_type": "execute_result"
    }
   ],
   "source": [
    "new_adata.obsm['code_index']"
   ]
  },
  {
   "cell_type": "code",
   "execution_count": 10,
   "id": "94a9cfa0-7c4c-449f-a80f-3477b16d518d",
   "metadata": {
    "tags": []
   },
   "outputs": [
    {
     "data": {
      "text/plain": [
       "array([[ 4.3742601e-09, -4.0678037e-11, -1.5584246e-13, ...,\n",
       "        -2.2219011e-10, -5.6158284e-17,  5.5456480e-11],\n",
       "       [ 7.9681539e-10, -7.4902818e-12, -2.7987551e-14, ...,\n",
       "        -2.6348945e-10, -7.8751446e-17,  6.5588653e-11],\n",
       "       [-2.2198401e-09,  2.0596032e-11,  8.0916922e-14, ...,\n",
       "        -2.6348945e-10, -7.8751446e-17,  6.5588653e-11],\n",
       "       ...,\n",
       "       [ 1.5299358e-09, -1.4224762e-11, -5.5298183e-14, ...,\n",
       "        -2.6348945e-10, -7.8751446e-17,  6.5588653e-11],\n",
       "       [-8.4892188e-10,  7.7632961e-12,  3.1937282e-14, ...,\n",
       "        -2.2219011e-10, -5.6158284e-17,  5.5456480e-11],\n",
       "       [ 1.8610150e-10, -1.8036458e-12, -5.7876406e-15, ...,\n",
       "        -2.6348945e-10, -7.8751446e-17,  6.5588653e-11]], dtype=float32)"
      ]
     },
     "execution_count": 10,
     "metadata": {},
     "output_type": "execute_result"
    }
   ],
   "source": [
    "new_adata.obsm['latent']"
   ]
  },
  {
   "cell_type": "code",
   "execution_count": null,
   "id": "765b7be3-d8f7-4b26-aa76-4df9604c7fc6",
   "metadata": {},
   "outputs": [],
   "source": []
  }
 ],
 "metadata": {
  "kernelspec": {
   "display_name": "scMulan",
   "language": "python",
   "name": "scmulan"
  },
  "language_info": {
   "codemirror_mode": {
    "name": "ipython",
    "version": 3
   },
   "file_extension": ".py",
   "mimetype": "text/x-python",
   "name": "python",
   "nbconvert_exporter": "python",
   "pygments_lexer": "ipython3",
   "version": "3.10.14"
  }
 },
 "nbformat": 4,
 "nbformat_minor": 5
}
